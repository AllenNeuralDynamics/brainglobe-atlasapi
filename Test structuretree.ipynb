{
 "cells": [
  {
   "cell_type": "code",
   "execution_count": 1,
   "metadata": {},
   "outputs": [],
   "source": [
    "%load_ext autoreload"
   ]
  },
  {
   "cell_type": "code",
   "execution_count": 2,
   "metadata": {},
   "outputs": [],
   "source": [
    "%autoreload\n",
    "from brainatlas_api.structure_tree import StructureTree\n",
    "from brainatlas_api.utils import open_json, read_tiff, make_hemispheres_stack\n",
    "from brainatlas_api.obj_utils import read_obj\n",
    "\n",
    "from pathlib import Path\n",
    "import json\n",
    "from pymesh import obj"
   ]
  },
  {
   "cell_type": "code",
   "execution_count": 13,
   "metadata": {},
   "outputs": [],
   "source": [
    "class MeshDictionary(dict):\n",
    "    def __init__(self, mesh_path):\n",
    "        self.root = Path(mesh_path)\n",
    "        \n",
    "        self.files_dict = {int(f.resolve().stem):f for f in self.root.glob(\"*.obj\")}\n",
    "        \n",
    "    def __getitem__(self, item):\n",
    "        if not item in self.keys():\n",
    "            value = read_obj(self.files_dict[item])\n",
    "            super().__setitem__(item, value)\n",
    "            \n",
    "        return super().__getitem__(item)\n",
    "\n",
    "\n",
    "class Atlas():\n",
    "    \"\"\" Base class to handle a brainglobe atlas.\n",
    "        Parameters\n",
    "        ----------\n",
    "        path : str or Path object\n",
    "            path to folder containing data info\n",
    "        \"\"\"\n",
    "    def __init__(self, path):\n",
    "        self.root = Path(path)\n",
    "        self.metadata = open_json(self.root / \"atlas_metadata.json\")\n",
    "\n",
    "        for attr in [\"name\", \"shape\", \"resolution\"]:\n",
    "            self.__setattr__(attr, self.metadata[attr])\n",
    "\n",
    "        structures_list = open_json(self.root / \"structures.json\")\n",
    "        self.structures = StructureTree(structures_list)\n",
    "\n",
    "        self._reference = None\n",
    "        self._annotated = None\n",
    "        self._hemispheres = None\n",
    "        self.acronym_to_id_map = self.structures.get_id_acronym_map()\n",
    "        \n",
    "        self.id_to_acronym_map = {v: k for k, v in self.acronym_to_id_map.items()}\n",
    "        \n",
    "        self.region_meshes_dict = MeshDictionary(self.root / \"meshes\")\n",
    "        \n",
    "\n",
    "    @property\n",
    "    def reference(self):\n",
    "        if self._reference is None:\n",
    "            self._reference = read_tiff(self.root / \"reference.tiff\")\n",
    "        return self._reference\n",
    "\n",
    "    @property\n",
    "    def annotated(self):\n",
    "        if self._annotated is None:\n",
    "            self._annotated = read_tiff(self.root / \"annotated.tiff\")\n",
    "        return self._annotated\n",
    "\n",
    "    @property\n",
    "    def hemispheres(self):\n",
    "        if self._hemispheres is None:\n",
    "            # If reference is symmetric generate hemispheres block:\n",
    "            if self.metadata[\"symmetric\"]:\n",
    "                self._hemispheres = make_hemispheres_stack(self.shape)\n",
    "            else:\n",
    "                self._hemispheres = read_tiff(self.root / \"hemispheres.tiff\")\n",
    "        return self._hemispheres\n",
    "\n",
    "    def get_hemisphere_from_coords(self, coords):\n",
    "        return self.hemispheres[self.idx_from_coords(coords)]\n",
    "\n",
    "    def get_region_id_from_coords(self, coords):\n",
    "        return self.annotated[self.idx_from_coords(coords)]\n",
    "    \n",
    "    def get_region_name_from_coords(self, coords):\n",
    "        region_id = self.get_region_id_from_coords(coords)\n",
    "        \n",
    "        return self.acronym_map[self.idx_from_coords(coords)]\n",
    "\n",
    "    def get_mesh_from_id(self, region_id):\n",
    "        return self.region_meshes_dict[region_id]\n",
    "    \n",
    "    def get_mesh_from_name(self, region_name):\n",
    "        region_id = self.acronym_to_id_map[region_name]\n",
    "        return self.get_mesh_from_id(region_id)\n",
    "\n",
    "    def get_brain_mesh(self):\n",
    "        return self.get_mesh_from_name(\"root\")\n",
    "    \n",
    "    @staticmethod\n",
    "    def idx_from_coords(coords):\n",
    "        return tuple([int(c) for c in coords])"
   ]
  },
  {
   "cell_type": "code",
   "execution_count": 19,
   "metadata": {},
   "outputs": [],
   "source": [
    "struct_file_path = Path(\"/Users/luigipetrucco/.brainglobe/allenbrain_atlas_10um/structures.json\")"
   ]
  },
  {
   "cell_type": "code",
   "execution_count": 20,
   "metadata": {},
   "outputs": [],
   "source": [
    "at = Atlas(struct_file_path.parent)"
   ]
  },
  {
   "cell_type": "code",
   "execution_count": 21,
   "metadata": {},
   "outputs": [],
   "source": [
    "v = at.get_brain_mesh()"
   ]
  },
  {
   "cell_type": "code",
   "execution_count": 22,
   "metadata": {},
   "outputs": [
    {
     "data": {
      "text/plain": [
       "tuple"
      ]
     },
     "execution_count": 22,
     "metadata": {},
     "output_type": "execute_result"
    }
   ],
   "source": [
    "type(v)"
   ]
  },
  {
   "cell_type": "code",
   "execution_count": 23,
   "metadata": {},
   "outputs": [],
   "source": [
    "root = struct_file_path.parent / \"meshes\""
   ]
  },
  {
   "cell_type": "code",
   "execution_count": 42,
   "metadata": {},
   "outputs": [],
   "source": []
  },
  {
   "cell_type": "code",
   "execution_count": 43,
   "metadata": {},
   "outputs": [],
   "source": [
    "mesh = MeshDictionary(root)"
   ]
  },
  {
   "cell_type": "code",
   "execution_count": 45,
   "metadata": {},
   "outputs": [
    {
     "data": {
      "text/plain": [
       "(array([[ 7896.56 ,  3384.15 ,   503.781],\n",
       "        [ 7777.44 ,  3414.98 ,   501.766],\n",
       "        [ 7903.   ,  3480.7  ,   492.858],\n",
       "        ...,\n",
       "        [13185.2  ,  4515.53 ,  7052.17 ],\n",
       "        [13183.2  ,  4503.4  ,  7098.49 ],\n",
       "        [13184.1  ,  4499.95 ,  7146.95 ]]),\n",
       " array([[ 0.00928808, -0.139091  , -0.990236  ],\n",
       "        [-0.0413177 , -0.123466  , -0.991488  ],\n",
       "        [ 0.0011034 , -0.0805217 , -0.996752  ],\n",
       "        ...,\n",
       "        [-0.951727  ,  0.304431  ,  0.0392041 ],\n",
       "        [-0.951727  ,  0.304431  ,  0.0392041 ],\n",
       "        [-0.951727  ,  0.304431  ,  0.0392041 ]]),\n",
       " array([[    0,     1,     2],\n",
       "        [    3,     0,     2],\n",
       "        [    1,     4,     5],\n",
       "        ...,\n",
       "        [49320, 49291, 49319],\n",
       "        [49291, 49295, 49319],\n",
       "        [49295, 49290, 49318]]),\n",
       " array([[    0,     1,     2],\n",
       "        [    3,     0,     2],\n",
       "        [    1,     4,     5],\n",
       "        ...,\n",
       "        [49320, 49291, 49319],\n",
       "        [49291, 49295, 49319],\n",
       "        [49295, 49290, 49318]]))"
      ]
     },
     "execution_count": 45,
     "metadata": {},
     "output_type": "execute_result"
    }
   ],
   "source": [
    "mesh[997]"
   ]
  },
  {
   "cell_type": "code",
   "execution_count": null,
   "metadata": {},
   "outputs": [],
   "source": []
  }
 ],
 "metadata": {
  "kernelspec": {
   "display_name": "amap_env",
   "language": "python",
   "name": "amap_env"
  },
  "language_info": {
   "codemirror_mode": {
    "name": "ipython",
    "version": 3
   },
   "file_extension": ".py",
   "mimetype": "text/x-python",
   "name": "python",
   "nbconvert_exporter": "python",
   "pygments_lexer": "ipython3",
   "version": "3.7.7"
  }
 },
 "nbformat": 4,
 "nbformat_minor": 2
}
